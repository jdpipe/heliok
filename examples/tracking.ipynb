{
 "cells": [
  {
   "cell_type": "markdown",
   "metadata": {},
   "source": [
    "Example of using HelioK for scene definition and sun tracking"
   ]
  },
  {
   "cell_type": "markdown",
   "metadata": {},
   "source": [
    "# Import"
   ]
  },
  {
   "cell_type": "code",
   "execution_count": 1,
   "metadata": {},
   "outputs": [],
   "source": [
    "# install required libraries\n",
    "#!pip install mathutils"
   ]
  },
  {
   "cell_type": "code",
   "execution_count": 2,
   "metadata": {},
   "outputs": [],
   "source": [
    "# add search path\n",
    "import sys\n",
    "sys.path.append(\"../source\")"
   ]
  },
  {
   "cell_type": "code",
   "execution_count": 3,
   "metadata": {},
   "outputs": [],
   "source": [
    "# import tracking library\n",
    "import HelioK as hk"
   ]
  },
  {
   "cell_type": "markdown",
   "metadata": {},
   "source": [
    "# Scene Python"
   ]
  },
  {
   "cell_type": "code",
   "execution_count": 4,
   "metadata": {
    "scrolled": true
   },
   "outputs": [],
   "source": [
    "# import project from script \n",
    "hk.Application.file(\"scene.py\", globals())"
   ]
  },
  {
   "cell_type": "code",
   "execution_count": 5,
   "metadata": {},
   "outputs": [],
   "source": [
    "# export project to xml\n",
    "app.write(\"scene.xml\")"
   ]
  },
  {
   "cell_type": "markdown",
   "metadata": {},
   "source": [
    "# Scene XML"
   ]
  },
  {
   "cell_type": "code",
   "execution_count": 6,
   "metadata": {},
   "outputs": [],
   "source": [
    "# import project from xml\n",
    "app = hk.Application.file(\"scene.xml\")"
   ]
  },
  {
   "cell_type": "code",
   "execution_count": 7,
   "metadata": {},
   "outputs": [
    {
     "name": "stdout",
     "output_type": "stream",
     "text": [
      "azimuth = 120.000°, elevation = 45.000°\n"
     ]
    }
   ],
   "source": [
    "# check sun\n",
    "sun = app.world.sun\n",
    "sun.motion.printAE()"
   ]
  },
  {
   "cell_type": "code",
   "execution_count": 8,
   "metadata": {},
   "outputs": [
    {
     "data": {
      "text/plain": [
       "20.0"
      ]
     },
     "execution_count": 8,
     "metadata": {},
     "output_type": "execute_result"
    }
   ],
   "source": [
    "# check heliostat\n",
    "heliostatA = app.scene.findNode(\"HeliostatA\").getKit(hk.HeliostatKit)\n",
    "heliostatA.aiming.point.z"
   ]
  },
  {
   "cell_type": "markdown",
   "metadata": {},
   "source": [
    "# Tracking"
   ]
  },
  {
   "cell_type": "code",
   "execution_count": 9,
   "metadata": {},
   "outputs": [
    {
     "data": {
      "text/plain": [
       "True"
      ]
     },
     "execution_count": 9,
     "metadata": {},
     "output_type": "execute_result"
    }
   ],
   "source": [
    "# set tracking angles\n",
    "heliostatA.setTrackingAngles(20.*hk.degree, 50.*hk.degree)"
   ]
  },
  {
   "cell_type": "code",
   "execution_count": 10,
   "metadata": {},
   "outputs": [
    {
     "name": "stdout",
     "output_type": "stream",
     "text": [
      "Solutions:\n",
      "α = 20.0000°, β = 50.0000°, trackable = True\n",
      "α = -160.0000°, β = 130.0000°, trackable = False\n",
      "Selected:\n",
      "α = 20.0000°, β = 50.0000°, trackable = True\n"
     ]
    },
    {
     "data": {
      "text/plain": [
       "True"
      ]
     },
     "execution_count": 10,
     "metadata": {},
     "output_type": "execute_result"
    }
   ],
   "source": [
    "# set tracking normal\n",
    "vNormal = heliostatA.findTrackingNormal() \n",
    "heliostatA.setTrackingNormal(vNormal, debug=True)"
   ]
  },
  {
   "cell_type": "code",
   "execution_count": 11,
   "metadata": {},
   "outputs": [
    {
     "name": "stdout",
     "output_type": "stream",
     "text": [
      "Solution 0:\n",
      "α = -36.9152°, β = 40.6306°, trackable = True, accuracy = 0.0604 m\n",
      "α = -36.8761°, β = 40.6415°, trackable = True, accuracy = 0.0001 m\n",
      "Solution 1:\n",
      "α = 143.0848°, β = 139.3694°, trackable = False, accuracy = 0.0811 m\n",
      "α = 143.0545°, β = 139.4126°, trackable = False, accuracy = 0.0000 m\n",
      "Selected:\n",
      "α = -36.8761°, β = 40.6415°, trackable = True\n"
     ]
    },
    {
     "data": {
      "text/plain": [
       "True"
      ]
     },
     "execution_count": 11,
     "metadata": {},
     "output_type": "execute_result"
    }
   ],
   "source": [
    "# set sun\n",
    "sun.motion.setAE(120.*hk.degree, 45.*hk.degree)\n",
    "heliostatA.setTrackingSun(sun.motion.vector, debug=True)"
   ]
  },
  {
   "cell_type": "code",
   "execution_count": 12,
   "metadata": {},
   "outputs": [
    {
     "name": "stdout",
     "output_type": "stream",
     "text": [
      "HeliostatA\n",
      "Solution 0:\n",
      "α = -36.9152°, β = 40.6306°, trackable = True, accuracy = 0.0604 m\n",
      "α = -36.8761°, β = 40.6415°, trackable = True, accuracy = 0.0001 m\n",
      "Solution 1:\n",
      "α = 143.0848°, β = 139.3694°, trackable = False, accuracy = 0.0811 m\n",
      "α = 143.0545°, β = 139.4126°, trackable = False, accuracy = 0.0000 m\n",
      "Selected:\n",
      "α = -36.8761°, β = 40.6415°, trackable = True\n",
      "\n",
      "HeliostatB\n",
      "Solution 0:\n",
      "α = -12.3211°, β = 32.1283°, trackable = True, accuracy = 0.0214 m\n",
      "α = -12.3089°, β = 32.1292°, trackable = True, accuracy = 0.0000 m\n",
      "Solution 1:\n",
      "α = 167.6789°, β = 147.8717°, trackable = False, accuracy = 0.0636 m\n",
      "α = 167.6690°, β = 147.9013°, trackable = False, accuracy = 0.0000 m\n",
      "Selected:\n",
      "α = -12.3089°, β = 32.1292°, trackable = True\n",
      "\n"
     ]
    }
   ],
   "source": [
    "# update all trackers\n",
    "app.updateTracking(debug=True)"
   ]
  }
 ],
 "metadata": {
  "kernelspec": {
   "display_name": "Python 3",
   "language": "python",
   "name": "python3"
  },
  "language_info": {
   "codemirror_mode": {
    "name": "ipython",
    "version": 3
   },
   "file_extension": ".py",
   "mimetype": "text/x-python",
   "name": "python",
   "nbconvert_exporter": "python",
   "pygments_lexer": "ipython3",
   "version": "3.7.6"
  }
 },
 "nbformat": 4,
 "nbformat_minor": 4
}
